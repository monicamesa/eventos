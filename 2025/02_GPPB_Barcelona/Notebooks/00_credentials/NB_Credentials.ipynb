{
 "cells": [
  {
   "cell_type": "markdown",
   "id": "bce290e6-d12b-45f9-a82d-1c9a457e4a0b",
   "metadata": {
    "microsoft": {
     "language": "python",
     "language_group": "synapse_pyspark"
    },
    "nteract": {
     "transient": {
      "deleting": false
     }
    }
   },
   "source": [
    "# **Credentials**"
   ]
  },
  {
   "cell_type": "code",
   "execution_count": null,
   "id": "bee37b1b-f458-4f95-8458-0c02e77bd65b",
   "metadata": {
    "microsoft": {
     "language": "python",
     "language_group": "synapse_pyspark"
    }
   },
   "outputs": [
    {
     "data": {
      "application/vnd.livy.statement-meta+json": {
       "execution_finish_time": "2025-02-20T13:31:24.6587875Z",
       "execution_start_time": "2025-02-20T13:31:21.9266475Z",
       "livy_statement_state": "available",
       "normalized_state": "finished",
       "parent_msg_id": "d0084dfa-5314-4b25-b6bc-391d6a1b3fc3",
       "queued_time": "2025-02-20T13:31:06.7341473Z",
       "session_id": "fa5d88c3-d06c-4213-a37f-0590a1360718",
       "session_start_time": "2025-02-20T13:31:06.7355113Z",
       "spark_pool": null,
       "state": "finished",
       "statement_id": 3,
       "statement_ids": [
        3
       ]
      },
      "text/plain": [
       "StatementMeta(, fa5d88c3-d06c-4213-a37f-0590a1360718, 3, Finished, Available, Finished)"
      ]
     },
     "metadata": {},
     "output_type": "display_data"
    }
   ],
   "source": [
    "# Definir la base del Data Lake\n",
    "DATA_LAKE_BASE = \"abfss://xxxxxxxxxxxxxxxxxxxxx@onelake.dfs.fabric.microsoft.com\"\n",
    "\n",
    "# Identificadores de los workspaces para cada capa\n",
    "BRONZE_WORKSPACE = \"xxxxxxxxxxxxxxxxxxxxx\"\n",
    "SILVER_WORKSPACE = \"xxxxxxxxxxxxxxxxxxxxx\"\n",
    "GOLD_WORKSPACE = \"xxxxxxxxxxxxxxxxxxxxx\"  \n",
    "\n",
    "# Definir rutas de Bronze y Silver de forma dinámica\n",
    "BRONZE_PATH = f\"{DATA_LAKE_BASE}/{BRONZE_WORKSPACE}/Tables\"\n",
    "SILVER_PATH = f\"{DATA_LAKE_BASE}/{SILVER_WORKSPACE}/Tables\"\n",
    "GOLD_PATH = f\"{DATA_LAKE_BASE}/{GOLD_WORKSPACE}/Tables\""
   ]
  }
 ],
 "metadata": {
  "dependencies": {},
  "kernel_info": {
   "name": "synapse_pyspark"
  },
  "kernelspec": {
   "display_name": "synapse_pyspark",
   "name": "synapse_pyspark"
  },
  "language_info": {
   "name": "python"
  },
  "microsoft": {
   "language": "python",
   "language_group": "synapse_pyspark",
   "ms_spell_check": {
    "ms_spell_check_language": "en"
   }
  },
  "nteract": {
   "version": "nteract-front-end@1.0.0"
  },
  "spark_compute": {
   "compute_id": "/trident/default",
   "session_options": {
    "conf": {
     "spark.synapse.nbs.session.timeout": "1200000"
    }
   }
  }
 },
 "nbformat": 4,
 "nbformat_minor": 5
}
